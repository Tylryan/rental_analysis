{
 "cells": [
  {
   "cell_type": "markdown",
   "metadata": {},
   "source": [
    "# San Francisco Rental Prices Dashboard\n",
    "\n",
    "In this notebook, you will compile the visualizations from the previous analysis into functions that can be used for a Panel dashboard."
   ]
  },
  {
   "cell_type": "code",
   "execution_count": 56,
   "metadata": {},
   "outputs": [],
   "source": [
    "# imports\n",
    "import panel as pn\n",
    "pn.extension('plotly')\n",
    "import plotly.express as px\n",
    "import pandas as pd\n",
    "import hvplot.pandas\n",
    "import matplotlib.pyplot as plt\n",
    "import os\n",
    "from pathlib import Path\n",
    "from dotenv import load_dotenv\n",
    "import numpy as np"
   ]
  },
  {
   "cell_type": "code",
   "execution_count": 57,
   "metadata": {},
   "outputs": [],
   "source": [
    "# Read the Mapbox API key\n",
    "load_dotenv()\n",
    "map_box_api = os.getenv('MAP_BOX_API')\n",
    "px.set_mapbox_access_token(map_box_api)\n"
   ]
  },
  {
   "cell_type": "markdown",
   "metadata": {},
   "source": [
    "# Import Data"
   ]
  },
  {
   "cell_type": "code",
   "execution_count": 58,
   "metadata": {},
   "outputs": [],
   "source": [
    "# Import the necessary CSVs to Pandas DataFrames\n",
    "census = pd.read_csv('Data/sfo_neighborhoods_census_data.csv', index_col='year')\n",
    "coordinates = pd.read_csv('Data/neighborhoods_coordinates.csv')\n",
    "housing = pd.read_csv('housing_units_by_year.csv')"
   ]
  },
  {
   "cell_type": "markdown",
   "metadata": {},
   "source": [
    "- - -"
   ]
  },
  {
   "cell_type": "markdown",
   "metadata": {},
   "source": [
    "## Panel Visualizations\n",
    "\n",
    "In this section, you will copy the code for each plot type from your analysis notebook and place it into separate functions that Panel can use to create panes for the dashboard. \n",
    "\n",
    "These functions will convert the plot object to a Panel pane.\n",
    "\n",
    "Be sure to include any DataFrame transformation/manipulation code required along with the plotting code.\n",
    "\n",
    "Return a Panel pane object from each function that can be used to build the dashboard.\n",
    "\n",
    "Note: Remove any `.show()` lines from the code. We want to return the plots instead of showing them. The Panel dashboard will then display the plots."
   ]
  },
  {
   "cell_type": "code",
   "execution_count": 70,
   "metadata": {},
   "outputs": [],
   "source": [
    "# Define Panel Visualization Functions\n",
    "def housing_units_per_year(): # Works\n",
    "    \"\"\"Housing Units Per Year.\"\"\"\n",
    "    df_info = pd.DataFrame(census.groupby(census.index).housing_units.mean())\n",
    "    housing_units_per_year_plot = df_info.plot.bar(\n",
    "        ylim = (df_info.housing_units.min() - df_info.housing_units.std(),\n",
    "        df_info.housing_units.max() + df_info.housing_units.std()))\n",
    "    return housing_units_per_year_plot\n",
    "\n",
    "\n",
    "def average_gross_rent(): # Works\n",
    "    \"\"\"Average Gross Rent in San Francisco Per Year.\"\"\"\n",
    "    \n",
    "    avgs = census.groupby(census.index)[['sale_price_sqr_foot','gross_rent']].mean()\n",
    "    line2 = avgs.gross_rent.plot(c = 'red')\n",
    "    title = plt.title('Average Gross Rent by Year')\n",
    "    ylabel = plt.ylabel('Price Per SqFt')\n",
    "    return line2,title,ylabel\n",
    "\n",
    "\n",
    "\n",
    "def average_sales_price(): # Works\n",
    "    \"\"\"Average Sales Price Per Year.\"\"\"\n",
    "    avgs = census.groupby(census.index)[['sale_price_sqr_foot','gross_rent']].mean()\n",
    "    line1 = avgs.sale_price_sqr_foot.plot(c = 'purple')\n",
    "    title = plt.title('Average Price Per SqFt')\n",
    "    ylabel = plt.ylabel('Price Per SqFt')\n",
    "    return line1, title, ylabel\n",
    "\n",
    "\n",
    "\n",
    "def average_price_by_neighborhood(): # Works\n",
    "    \"\"\"Average Prices by Neighborhood.\"\"\"\n",
    "    \n",
    "    data = census[['neighborhood','sale_price_sqr_foot']].groupby([census.index, 'neighborhood']).mean().reset_index().dropna().sort_values(by ='year')\n",
    "    hvplot1 = data.hvplot.line(x = 'year', y = 'sale_price_sqr_foot', groupby ='neighborhood', hover_cols = 'all')\n",
    "    return hvplot\n",
    "\n",
    "\n",
    "def top_most_expensive_neighborhoods(): # Works\n",
    "    \"\"\"Top 10 Most Expensive Neighborhoods.\"\"\"\n",
    "\n",
    "    expensive = pd.DataFrame(census.groupby(['neighborhood']).sale_price_sqr_foot.mean().sort_values(ascending = False).head(10).reset_index())\n",
    "    expensive_plot = expensive.hvplot.bar(figsize = (30,20), x = 'neighborhood', rot = 90)\n",
    "    return expensive_plot\n",
    "\n",
    "\n",
    "def most_expensive_neighborhoods_rent_sales(): # Works\n",
    "    \"\"\"Comparison of Rent and Sales Prices of Most Expensive Neighborhoods.\"\"\"   \n",
    "    a = census.groupby(['year','neighborhood']).mean().drop(columns = 'housing_units')\n",
    "    a = a.reset_index()\n",
    "    plot1 = a.hvplot.bar(groupby = 'neighborhood', rot = 90, x = 'year', figsize = (30,10))\n",
    "    return plot1\n",
    "\n",
    "    \n",
    "    \n",
    "def parallel_coordinates(): # Works\n",
    "    \"\"\"Parallel Coordinates Plot.\"\"\"\n",
    "    new = census.reset_index()\n",
    "    most_expensive = new.groupby('neighborhood').mean().sort_values(by = 'sale_price_sqr_foot', ascending = False).head(50)\n",
    "    most_expensive['sale_price_sqr_foot'] = np.floor(most_expensive['sale_price_sqr_foot'])\n",
    "    most_expensive['gross_rent'] = np.floor(most_expensive['gross_rent'])\n",
    "    most_expensive = most_expensive.reset_index()\n",
    "\n",
    "    most_expensive['year'] = round(most_expensive['year'])\n",
    "    most_expensive = pd.DataFrame(most_expensive)\n",
    "\n",
    "    pcoor = px.parallel_coordinates(\n",
    "        most_expensive,\n",
    "        dimensions = ['sale_price_sqr_foot', 'housing_units','gross_rent'],\n",
    "        color = 'sale_price_sqr_foot',\n",
    "        labels={'sale_price_sqr_foot':'Sale Price/SqFt', 'housing_units':'Housing Units', 'gross_rent':'Gross Rent'},\n",
    "        width = 1400,\n",
    "        height = 800)\n",
    "    return pcoor\n",
    "\n",
    "def parallel_categories(): # Works\n",
    "    \"\"\"Parallel Categories Plot.\"\"\"\n",
    "    \n",
    "    new = census.reset_index()\n",
    "    most_expensive = new.groupby('neighborhood').mean().sort_values(by = 'sale_price_sqr_foot', ascending = False).head(50)\n",
    "    most_expensive['sale_price_sqr_foot'] = np.floor(most_expensive['sale_price_sqr_foot'])\n",
    "    most_expensive['gross_rent'] = np.floor(most_expensive['gross_rent'])\n",
    "    most_expensive = most_expensive.reset_index()\n",
    "\n",
    "    most_expensive['year'] = round(most_expensive['year'])\n",
    "    most_expensive = pd.DataFrame(most_expensive)\n",
    "\n",
    "    pcat = px.parallel_categories(\n",
    "        most_expensive,\n",
    "        dimensions = ['neighborhood','year','housing_units','gross_rent'],\n",
    "        color = 'sale_price_sqr_foot',\n",
    "        labels={'neighborhood':'Neighborhood', 'sale_price_sqr_foot':'Sale Price/SqFt', 'housing_units':'Housing Units', 'gross_rent':'Gross Rent', 'year':'Year'},\n",
    "        width = 1400,\n",
    "        height = 800)\n",
    "    return pcat\n",
    "\n",
    "\n",
    "\n",
    "def neighborhood_map(): # Works\n",
    "    \"\"\"Neighborhood Map.\"\"\"\n",
    "\n",
    "    coordinates = pd.read_csv('Data/neighborhoods_coordinates.csv')\n",
    "    coordinates.columns = ['neighborhood','lat','lon']\n",
    "    coordinates = pd.DataFrame(coordinates)\n",
    "\n",
    "    mean_df = pd.DataFrame(census.groupby(['neighborhood']).mean())\n",
    "    new_df = pd.DataFrame(pd.merge(coordinates,mean_df, how = 'left', on = ['neighborhood','neighborhood']).dropna())\n",
    "    map_box = px.scatter_mapbox(\n",
    "        new_df,\n",
    "        lat=\"lat\",\n",
    "        lon=\"lon\",\n",
    "        color=\"neighborhood\",\n",
    "        zoom=10)\n",
    "    map_box.update_layout(\n",
    "        mapbox_style=\"carto-positron\")\n",
    "     # Got this almost directly from one of the activities.\n",
    "    return map_box.show()\n",
    "\n",
    "\n",
    "def sunburst():\n",
    "    \"\"\"Sunburst Plot.\"\"\"\n",
    "    new = census.reset_index()\n",
    "    most_expensive = new.groupby('neighborhood').mean().sort_values(by = 'sale_price_sqr_foot', ascending = False).head(50)\n",
    "    most_expensive['sale_price_sqr_foot'] = np.floor(most_expensive['sale_price_sqr_foot'])\n",
    "    most_expensive['gross_rent'] = np.floor(most_expensive['gross_rent'])\n",
    "    most_expensive = most_expensive.reset_index()\n",
    "\n",
    "    most_expensive['year'] = round(most_expensive['year'])\n",
    "    most_expensive = pd.DataFrame(most_expensive)\n",
    "\n",
    "    fig = px.sunburst(most_expensive, path = ['year','neighborhood',], values = 'sale_price_sqr_foot', width = 1400, height = 800)\n",
    "    return fig\n"
   ]
  },
  {
   "cell_type": "code",
   "execution_count": 71,
   "metadata": {},
   "outputs": [
    {
     "output_type": "display_data",
     "data": {
      "application/vnd.plotly.v1+json": {
       "config": {
        "plotlyServerURL": "https://plot.ly"
       },
       "data": [
        {
         "branchvalues": "total",
         "domain": {
          "x": [
           0,
           1
          ],
          "y": [
           0,
           1
          ]
         },
         "hovertemplate": "labels=%{label}<br>sale_price_sqr_foot=%{value}<br>parent=%{parent}<br>id=%{id}<extra></extra>",
         "ids": [
          "2015.0/Bayview Heights",
          "2014.0/Bernal Heights ",
          "2013.0/Buena Vista Park",
          "2013.0/Central Sunset",
          "2012.0/Clarendon Heights",
          "2012.0/Corona Heights",
          "2013.0/Cow Hollow",
          "2012.0/Diamond Heights",
          "2013.0/Duboce Triangle",
          "2013.0/Eureka Valley/Dolores Heights",
          "2012.0/Financial District South",
          "2013.0/Glen Park",
          "2013.0/Golden Gate Heights",
          "2013.0/Haight Ashbury",
          "2013.0/Inner Mission",
          "2014.0/Inner Parkside",
          "2013.0/Inner Sunset",
          "2013.0/Jordan Park/Laurel Heights",
          "2012.0/Lake --The Presidio",
          "2012.0/Lone Mountain",
          "2013.0/Lower Pacific Heights",
          "2013.0/Marina",
          "2014.0/Merced Heights",
          "2012.0/Midtown Terrace",
          "2012.0/Miraloma Park",
          "2013.0/Mission Bay",
          "2012.0/Mission Dolores",
          "2014.0/Mission Terrace",
          "2013.0/Nob Hill",
          "2013.0/Noe Valley",
          "2013.0/North Beach",
          "2013.0/North Waterfront",
          "2013.0/Outer Parkside",
          "2013.0/Outer Richmond ",
          "2013.0/Pacific Heights",
          "2013.0/Parnassus/Ashbury Heights",
          "2013.0/Potrero Hill",
          "2013.0/Presidio Heights",
          "2013.0/Russian Hill",
          "2012.0/South Beach",
          "2013.0/South of Market",
          "2013.0/Sunnyside",
          "2013.0/Telegraph Hill",
          "2013.0/Twin Peaks",
          "2012.0/Union Square District",
          "2013.0/Van Ness/ Civic Center",
          "2012.0/West Portal",
          "2012.0/Westwood Highlands",
          "2015.0/Westwood Park",
          "2012.0/Yerba Buena",
          "2012.0",
          "2013.0",
          "2014.0",
          "2015.0"
         ],
         "labels": [
          "Bayview Heights",
          "Bernal Heights ",
          "Buena Vista Park",
          "Central Sunset",
          "Clarendon Heights",
          "Corona Heights",
          "Cow Hollow",
          "Diamond Heights",
          "Duboce Triangle",
          "Eureka Valley/Dolores Heights",
          "Financial District South",
          "Glen Park",
          "Golden Gate Heights",
          "Haight Ashbury",
          "Inner Mission",
          "Inner Parkside",
          "Inner Sunset",
          "Jordan Park/Laurel Heights",
          "Lake --The Presidio",
          "Lone Mountain",
          "Lower Pacific Heights",
          "Marina",
          "Merced Heights",
          "Midtown Terrace",
          "Miraloma Park",
          "Mission Bay",
          "Mission Dolores",
          "Mission Terrace",
          "Nob Hill",
          "Noe Valley",
          "North Beach",
          "North Waterfront",
          "Outer Parkside",
          "Outer Richmond ",
          "Pacific Heights",
          "Parnassus/Ashbury Heights",
          "Potrero Hill",
          "Presidio Heights",
          "Russian Hill",
          "South Beach",
          "South of Market",
          "Sunnyside",
          "Telegraph Hill",
          "Twin Peaks",
          "Union Square District",
          "Van Ness/ Civic Center",
          "West Portal",
          "Westwood Highlands",
          "Westwood Park",
          "Yerba Buena",
          "2012.0",
          "2013.0",
          "2014.0",
          "2015.0"
         ],
         "name": "",
         "parents": [
          "2015.0",
          "2014.0",
          "2013.0",
          "2013.0",
          "2012.0",
          "2012.0",
          "2013.0",
          "2012.0",
          "2013.0",
          "2013.0",
          "2012.0",
          "2013.0",
          "2013.0",
          "2013.0",
          "2013.0",
          "2014.0",
          "2013.0",
          "2013.0",
          "2012.0",
          "2012.0",
          "2013.0",
          "2013.0",
          "2014.0",
          "2012.0",
          "2012.0",
          "2013.0",
          "2012.0",
          "2014.0",
          "2013.0",
          "2013.0",
          "2013.0",
          "2013.0",
          "2013.0",
          "2013.0",
          "2013.0",
          "2013.0",
          "2013.0",
          "2013.0",
          "2013.0",
          "2012.0",
          "2013.0",
          "2013.0",
          "2013.0",
          "2013.0",
          "2012.0",
          "2013.0",
          "2012.0",
          "2012.0",
          "2015.0",
          "2012.0",
          "",
          "",
          "",
          ""
         ],
         "type": "sunburst",
         "values": [
          590,
          576,
          452,
          423,
          487,
          587,
          665,
          434,
          502,
          642,
          455,
          623,
          639,
          449,
          397,
          519,
          413,
          529,
          409,
          478,
          539,
          583,
          788,
          550,
          779,
          566,
          418,
          523,
          458,
          542,
          411,
          498,
          485,
          473,
          689,
          632,
          662,
          675,
          608,
          650,
          570,
          528,
          676,
          469,
          903,
          404,
          498,
          533,
          687,
          576,
          7757,
          16202,
          2406,
          1277
         ]
        }
       ],
       "layout": {
        "height": 800,
        "legend": {
         "tracegroupgap": 0
        },
        "margin": {
         "t": 60
        },
        "template": {
         "data": {
          "bar": [
           {
            "error_x": {
             "color": "#2a3f5f"
            },
            "error_y": {
             "color": "#2a3f5f"
            },
            "marker": {
             "line": {
              "color": "#E5ECF6",
              "width": 0.5
             }
            },
            "type": "bar"
           }
          ],
          "barpolar": [
           {
            "marker": {
             "line": {
              "color": "#E5ECF6",
              "width": 0.5
             }
            },
            "type": "barpolar"
           }
          ],
          "carpet": [
           {
            "aaxis": {
             "endlinecolor": "#2a3f5f",
             "gridcolor": "white",
             "linecolor": "white",
             "minorgridcolor": "white",
             "startlinecolor": "#2a3f5f"
            },
            "baxis": {
             "endlinecolor": "#2a3f5f",
             "gridcolor": "white",
             "linecolor": "white",
             "minorgridcolor": "white",
             "startlinecolor": "#2a3f5f"
            },
            "type": "carpet"
           }
          ],
          "choropleth": [
           {
            "colorbar": {
             "outlinewidth": 0,
             "ticks": ""
            },
            "type": "choropleth"
           }
          ],
          "contour": [
           {
            "colorbar": {
             "outlinewidth": 0,
             "ticks": ""
            },
            "colorscale": [
             [
              0,
              "#0d0887"
             ],
             [
              0.1111111111111111,
              "#46039f"
             ],
             [
              0.2222222222222222,
              "#7201a8"
             ],
             [
              0.3333333333333333,
              "#9c179e"
             ],
             [
              0.4444444444444444,
              "#bd3786"
             ],
             [
              0.5555555555555556,
              "#d8576b"
             ],
             [
              0.6666666666666666,
              "#ed7953"
             ],
             [
              0.7777777777777778,
              "#fb9f3a"
             ],
             [
              0.8888888888888888,
              "#fdca26"
             ],
             [
              1,
              "#f0f921"
             ]
            ],
            "type": "contour"
           }
          ],
          "contourcarpet": [
           {
            "colorbar": {
             "outlinewidth": 0,
             "ticks": ""
            },
            "type": "contourcarpet"
           }
          ],
          "heatmap": [
           {
            "colorbar": {
             "outlinewidth": 0,
             "ticks": ""
            },
            "colorscale": [
             [
              0,
              "#0d0887"
             ],
             [
              0.1111111111111111,
              "#46039f"
             ],
             [
              0.2222222222222222,
              "#7201a8"
             ],
             [
              0.3333333333333333,
              "#9c179e"
             ],
             [
              0.4444444444444444,
              "#bd3786"
             ],
             [
              0.5555555555555556,
              "#d8576b"
             ],
             [
              0.6666666666666666,
              "#ed7953"
             ],
             [
              0.7777777777777778,
              "#fb9f3a"
             ],
             [
              0.8888888888888888,
              "#fdca26"
             ],
             [
              1,
              "#f0f921"
             ]
            ],
            "type": "heatmap"
           }
          ],
          "heatmapgl": [
           {
            "colorbar": {
             "outlinewidth": 0,
             "ticks": ""
            },
            "colorscale": [
             [
              0,
              "#0d0887"
             ],
             [
              0.1111111111111111,
              "#46039f"
             ],
             [
              0.2222222222222222,
              "#7201a8"
             ],
             [
              0.3333333333333333,
              "#9c179e"
             ],
             [
              0.4444444444444444,
              "#bd3786"
             ],
             [
              0.5555555555555556,
              "#d8576b"
             ],
             [
              0.6666666666666666,
              "#ed7953"
             ],
             [
              0.7777777777777778,
              "#fb9f3a"
             ],
             [
              0.8888888888888888,
              "#fdca26"
             ],
             [
              1,
              "#f0f921"
             ]
            ],
            "type": "heatmapgl"
           }
          ],
          "histogram": [
           {
            "marker": {
             "colorbar": {
              "outlinewidth": 0,
              "ticks": ""
             }
            },
            "type": "histogram"
           }
          ],
          "histogram2d": [
           {
            "colorbar": {
             "outlinewidth": 0,
             "ticks": ""
            },
            "colorscale": [
             [
              0,
              "#0d0887"
             ],
             [
              0.1111111111111111,
              "#46039f"
             ],
             [
              0.2222222222222222,
              "#7201a8"
             ],
             [
              0.3333333333333333,
              "#9c179e"
             ],
             [
              0.4444444444444444,
              "#bd3786"
             ],
             [
              0.5555555555555556,
              "#d8576b"
             ],
             [
              0.6666666666666666,
              "#ed7953"
             ],
             [
              0.7777777777777778,
              "#fb9f3a"
             ],
             [
              0.8888888888888888,
              "#fdca26"
             ],
             [
              1,
              "#f0f921"
             ]
            ],
            "type": "histogram2d"
           }
          ],
          "histogram2dcontour": [
           {
            "colorbar": {
             "outlinewidth": 0,
             "ticks": ""
            },
            "colorscale": [
             [
              0,
              "#0d0887"
             ],
             [
              0.1111111111111111,
              "#46039f"
             ],
             [
              0.2222222222222222,
              "#7201a8"
             ],
             [
              0.3333333333333333,
              "#9c179e"
             ],
             [
              0.4444444444444444,
              "#bd3786"
             ],
             [
              0.5555555555555556,
              "#d8576b"
             ],
             [
              0.6666666666666666,
              "#ed7953"
             ],
             [
              0.7777777777777778,
              "#fb9f3a"
             ],
             [
              0.8888888888888888,
              "#fdca26"
             ],
             [
              1,
              "#f0f921"
             ]
            ],
            "type": "histogram2dcontour"
           }
          ],
          "mesh3d": [
           {
            "colorbar": {
             "outlinewidth": 0,
             "ticks": ""
            },
            "type": "mesh3d"
           }
          ],
          "parcoords": [
           {
            "line": {
             "colorbar": {
              "outlinewidth": 0,
              "ticks": ""
             }
            },
            "type": "parcoords"
           }
          ],
          "pie": [
           {
            "automargin": true,
            "type": "pie"
           }
          ],
          "scatter": [
           {
            "marker": {
             "colorbar": {
              "outlinewidth": 0,
              "ticks": ""
             }
            },
            "type": "scatter"
           }
          ],
          "scatter3d": [
           {
            "line": {
             "colorbar": {
              "outlinewidth": 0,
              "ticks": ""
             }
            },
            "marker": {
             "colorbar": {
              "outlinewidth": 0,
              "ticks": ""
             }
            },
            "type": "scatter3d"
           }
          ],
          "scattercarpet": [
           {
            "marker": {
             "colorbar": {
              "outlinewidth": 0,
              "ticks": ""
             }
            },
            "type": "scattercarpet"
           }
          ],
          "scattergeo": [
           {
            "marker": {
             "colorbar": {
              "outlinewidth": 0,
              "ticks": ""
             }
            },
            "type": "scattergeo"
           }
          ],
          "scattergl": [
           {
            "marker": {
             "colorbar": {
              "outlinewidth": 0,
              "ticks": ""
             }
            },
            "type": "scattergl"
           }
          ],
          "scattermapbox": [
           {
            "marker": {
             "colorbar": {
              "outlinewidth": 0,
              "ticks": ""
             }
            },
            "type": "scattermapbox"
           }
          ],
          "scatterpolar": [
           {
            "marker": {
             "colorbar": {
              "outlinewidth": 0,
              "ticks": ""
             }
            },
            "type": "scatterpolar"
           }
          ],
          "scatterpolargl": [
           {
            "marker": {
             "colorbar": {
              "outlinewidth": 0,
              "ticks": ""
             }
            },
            "type": "scatterpolargl"
           }
          ],
          "scatterternary": [
           {
            "marker": {
             "colorbar": {
              "outlinewidth": 0,
              "ticks": ""
             }
            },
            "type": "scatterternary"
           }
          ],
          "surface": [
           {
            "colorbar": {
             "outlinewidth": 0,
             "ticks": ""
            },
            "colorscale": [
             [
              0,
              "#0d0887"
             ],
             [
              0.1111111111111111,
              "#46039f"
             ],
             [
              0.2222222222222222,
              "#7201a8"
             ],
             [
              0.3333333333333333,
              "#9c179e"
             ],
             [
              0.4444444444444444,
              "#bd3786"
             ],
             [
              0.5555555555555556,
              "#d8576b"
             ],
             [
              0.6666666666666666,
              "#ed7953"
             ],
             [
              0.7777777777777778,
              "#fb9f3a"
             ],
             [
              0.8888888888888888,
              "#fdca26"
             ],
             [
              1,
              "#f0f921"
             ]
            ],
            "type": "surface"
           }
          ],
          "table": [
           {
            "cells": {
             "fill": {
              "color": "#EBF0F8"
             },
             "line": {
              "color": "white"
             }
            },
            "header": {
             "fill": {
              "color": "#C8D4E3"
             },
             "line": {
              "color": "white"
             }
            },
            "type": "table"
           }
          ]
         },
         "layout": {
          "annotationdefaults": {
           "arrowcolor": "#2a3f5f",
           "arrowhead": 0,
           "arrowwidth": 1
          },
          "autotypenumbers": "strict",
          "coloraxis": {
           "colorbar": {
            "outlinewidth": 0,
            "ticks": ""
           }
          },
          "colorscale": {
           "diverging": [
            [
             0,
             "#8e0152"
            ],
            [
             0.1,
             "#c51b7d"
            ],
            [
             0.2,
             "#de77ae"
            ],
            [
             0.3,
             "#f1b6da"
            ],
            [
             0.4,
             "#fde0ef"
            ],
            [
             0.5,
             "#f7f7f7"
            ],
            [
             0.6,
             "#e6f5d0"
            ],
            [
             0.7,
             "#b8e186"
            ],
            [
             0.8,
             "#7fbc41"
            ],
            [
             0.9,
             "#4d9221"
            ],
            [
             1,
             "#276419"
            ]
           ],
           "sequential": [
            [
             0,
             "#0d0887"
            ],
            [
             0.1111111111111111,
             "#46039f"
            ],
            [
             0.2222222222222222,
             "#7201a8"
            ],
            [
             0.3333333333333333,
             "#9c179e"
            ],
            [
             0.4444444444444444,
             "#bd3786"
            ],
            [
             0.5555555555555556,
             "#d8576b"
            ],
            [
             0.6666666666666666,
             "#ed7953"
            ],
            [
             0.7777777777777778,
             "#fb9f3a"
            ],
            [
             0.8888888888888888,
             "#fdca26"
            ],
            [
             1,
             "#f0f921"
            ]
           ],
           "sequentialminus": [
            [
             0,
             "#0d0887"
            ],
            [
             0.1111111111111111,
             "#46039f"
            ],
            [
             0.2222222222222222,
             "#7201a8"
            ],
            [
             0.3333333333333333,
             "#9c179e"
            ],
            [
             0.4444444444444444,
             "#bd3786"
            ],
            [
             0.5555555555555556,
             "#d8576b"
            ],
            [
             0.6666666666666666,
             "#ed7953"
            ],
            [
             0.7777777777777778,
             "#fb9f3a"
            ],
            [
             0.8888888888888888,
             "#fdca26"
            ],
            [
             1,
             "#f0f921"
            ]
           ]
          },
          "colorway": [
           "#636efa",
           "#EF553B",
           "#00cc96",
           "#ab63fa",
           "#FFA15A",
           "#19d3f3",
           "#FF6692",
           "#B6E880",
           "#FF97FF",
           "#FECB52"
          ],
          "font": {
           "color": "#2a3f5f"
          },
          "geo": {
           "bgcolor": "white",
           "lakecolor": "white",
           "landcolor": "#E5ECF6",
           "showlakes": true,
           "showland": true,
           "subunitcolor": "white"
          },
          "hoverlabel": {
           "align": "left"
          },
          "hovermode": "closest",
          "mapbox": {
           "style": "light"
          },
          "paper_bgcolor": "white",
          "plot_bgcolor": "#E5ECF6",
          "polar": {
           "angularaxis": {
            "gridcolor": "white",
            "linecolor": "white",
            "ticks": ""
           },
           "bgcolor": "#E5ECF6",
           "radialaxis": {
            "gridcolor": "white",
            "linecolor": "white",
            "ticks": ""
           }
          },
          "scene": {
           "xaxis": {
            "backgroundcolor": "#E5ECF6",
            "gridcolor": "white",
            "gridwidth": 2,
            "linecolor": "white",
            "showbackground": true,
            "ticks": "",
            "zerolinecolor": "white"
           },
           "yaxis": {
            "backgroundcolor": "#E5ECF6",
            "gridcolor": "white",
            "gridwidth": 2,
            "linecolor": "white",
            "showbackground": true,
            "ticks": "",
            "zerolinecolor": "white"
           },
           "zaxis": {
            "backgroundcolor": "#E5ECF6",
            "gridcolor": "white",
            "gridwidth": 2,
            "linecolor": "white",
            "showbackground": true,
            "ticks": "",
            "zerolinecolor": "white"
           }
          },
          "shapedefaults": {
           "line": {
            "color": "#2a3f5f"
           }
          },
          "ternary": {
           "aaxis": {
            "gridcolor": "white",
            "linecolor": "white",
            "ticks": ""
           },
           "baxis": {
            "gridcolor": "white",
            "linecolor": "white",
            "ticks": ""
           },
           "bgcolor": "#E5ECF6",
           "caxis": {
            "gridcolor": "white",
            "linecolor": "white",
            "ticks": ""
           }
          },
          "title": {
           "x": 0.05
          },
          "xaxis": {
           "automargin": true,
           "gridcolor": "white",
           "linecolor": "white",
           "ticks": "",
           "title": {
            "standoff": 15
           },
           "zerolinecolor": "white",
           "zerolinewidth": 2
          },
          "yaxis": {
           "automargin": true,
           "gridcolor": "white",
           "linecolor": "white",
           "ticks": "",
           "title": {
            "standoff": 15
           },
           "zerolinecolor": "white",
           "zerolinewidth": 2
          }
         }
        },
        "width": 1400
       }
      }
     },
     "metadata": {}
    }
   ],
   "source": [
    "sunburst()"
   ]
  },
  {
   "cell_type": "markdown",
   "metadata": {},
   "source": [
    "## Panel Dashboard\n",
    "\n",
    "In this section, you will combine all of the plots into a single dashboard view using Panel. Be creative with your dashboard design!"
   ]
  },
  {
   "cell_type": "code",
   "execution_count": null,
   "metadata": {},
   "outputs": [],
   "source": [
    "# Create a Title for the Dashboard\n",
    "# YOUR CODE HERE!\n",
    "\n",
    "\n",
    "# Create a tab layout for the dashboard\n",
    "# YOUR CODE HERE!\n",
    "\n",
    "\n",
    "# Create the dashboard\n",
    "# YOUR CODE HERE!"
   ]
  },
  {
   "cell_type": "markdown",
   "metadata": {},
   "source": [
    "## Serve the Panel Dashboard"
   ]
  },
  {
   "cell_type": "code",
   "execution_count": null,
   "metadata": {},
   "outputs": [],
   "source": [
    "# Serve the# dashboard\n",
    "# YOUR CODE HERE!"
   ]
  },
  {
   "cell_type": "markdown",
   "metadata": {},
   "source": [
    "# Debugging\n",
    "\n",
    "Note: Some of the Plotly express plots may not render in the notebook through the panel functions.\n",
    "\n",
    "However, you can test each plot by uncommenting the following code"
   ]
  },
  {
   "cell_type": "code",
   "execution_count": null,
   "metadata": {},
   "outputs": [],
   "source": [
    "# housing_units_per_year()"
   ]
  },
  {
   "cell_type": "code",
   "execution_count": null,
   "metadata": {},
   "outputs": [],
   "source": [
    "# average_gross_rent()"
   ]
  },
  {
   "cell_type": "code",
   "execution_count": null,
   "metadata": {},
   "outputs": [],
   "source": [
    "# average_sales_price()"
   ]
  },
  {
   "cell_type": "code",
   "execution_count": null,
   "metadata": {},
   "outputs": [],
   "source": [
    "# average_price_by_neighborhood()"
   ]
  },
  {
   "cell_type": "code",
   "execution_count": null,
   "metadata": {},
   "outputs": [],
   "source": [
    "# top_most_expensive_neighborhoods()"
   ]
  },
  {
   "cell_type": "code",
   "execution_count": null,
   "metadata": {},
   "outputs": [],
   "source": [
    "# most_expensive_neighborhoods_rent_sales()"
   ]
  },
  {
   "cell_type": "code",
   "execution_count": null,
   "metadata": {},
   "outputs": [],
   "source": [
    "# neighborhood_map().show()"
   ]
  },
  {
   "cell_type": "code",
   "execution_count": null,
   "metadata": {},
   "outputs": [],
   "source": [
    "# parallel_categories()"
   ]
  },
  {
   "cell_type": "code",
   "execution_count": null,
   "metadata": {},
   "outputs": [],
   "source": [
    "# parallel_coordinates()"
   ]
  },
  {
   "cell_type": "code",
   "execution_count": null,
   "metadata": {},
   "outputs": [],
   "source": [
    "# sunburst()"
   ]
  },
  {
   "cell_type": "code",
   "execution_count": null,
   "metadata": {},
   "outputs": [],
   "source": []
  }
 ],
 "metadata": {
  "file_extension": ".py",
  "kernelspec": {
   "name": "python3",
   "display_name": "Python 3.8.5 64-bit ('analysis': conda)",
   "metadata": {
    "interpreter": {
     "hash": "bfec5211ecea8b3c75bcb6b57fc0f2ffda9e395882f2a176b8ea43e81c656cbf"
    }
   }
  },
  "language_info": {
   "codemirror_mode": {
    "name": "ipython",
    "version": 3
   },
   "file_extension": ".py",
   "mimetype": "text/x-python",
   "name": "python",
   "nbconvert_exporter": "python",
   "pygments_lexer": "ipython3",
   "version": "3.8.5-final"
  },
  "mimetype": "text/x-python",
  "name": "python",
  "npconvert_exporter": "python",
  "pygments_lexer": "ipython3",
  "version": 3
 },
 "nbformat": 4,
 "nbformat_minor": 4
}